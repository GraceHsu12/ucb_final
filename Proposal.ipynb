{
 "cells": [
  {
   "cell_type": "markdown",
   "metadata": {},
   "source": [
    "# \"Who's a Good Boy?!\" - Final Project - UCB Bootcamp \n",
    "Project Group: Sean Lane, Grace Hsu, Casey Hill"
   ]
  },
  {
   "cell_type": "markdown",
   "metadata": {},
   "source": [
    "Problem Statement: \n",
    "Determine the breed of dog in a photo.\n",
    "\n",
    "Congratulations! You are now a proud parent of your newly adopted dog. However, you don’t know what type of breed your dog is. Although you could find out using an expensive DNA test, there’s a more cost effective method to do so. Simply, upload a photo and find out for free!\n",
    "\n",
    "We intend to deploy a model that will be able to determine the breed of your dog with an efficacy rate above 80%. This model will use over 10,000 training images as well as 10,000 test images. After our training and testing we will use Nanonets to strengthen our model with a deeper learning library for increased accuracy.\n",
    "\n",
    "Early discovery and cleaning provided us a clean and easy to assemble dataset. since it has been used in professional competition. We found 10,222 images for test and 10,357 for training. These images came with list identification to help us connect our images with their identifiers.\n",
    "\n",
    "Our plan will be to use our fully trained model to then determine the breed of Grace's Dog either in class or before our presentation. Our goal will be to demonstrate our model in class, to both show the models accuracy and for visual appeal of our presentation.\n",
    "\n",
    "Machine Learning: Learning dog image features using Deep Learning.\n",
    "Data Cleansing: Pandas and Numpy Libraries to clean and arrange our data for Machine Learning\n",
    "Languages: Convolution Neural Network (CNN), Sci-Kit Learn, NanoNet\n",
    "\n",
    "Other Programming Languages/Libraries:\n",
    "TABLEAU\n",
    "MATPLOTLIB\n",
    "HTML/CSS/BOOTSTRAP\n",
    "PYTHON FLASK APP\n",
    "\n",
    "Dataset:\n",
    "https://www.kaggle.com/c/dog-breed-identification/data?\n",
    "    Over 20,000 images of dog breeds and identifiers to split between test and training data.\n",
    "\n",
    "Other Resources: \n",
    "https://nanonets.com/\n",
    "    Python Library Used to stengthen our program efficacy"
   ]
  },
  {
   "cell_type": "markdown",
   "metadata": {},
   "source": [
    "## Data Validation"
   ]
  },
  {
   "cell_type": "code",
   "execution_count": 10,
   "metadata": {},
   "outputs": [],
   "source": [
    "# 1\n",
    "## Import Dependencies\n",
    "\n",
    "%matplotlib inline\n",
    "import matplotlib.pyplot as plt\n",
    "\n",
    "import tensorflow as tf\n",
    "import numpy as np\n",
    "import pandas as pd\n",
    "\n",
    "import time\n",
    "from datetime import timedelta\n",
    "\n",
    "import math\n",
    "import os\n",
    "\n",
    "import scipy.misc\n",
    "from scipy.stats import itemfreq\n",
    "from scipy.io import loadmat\n",
    "from random import sample\n",
    "import pickle\n",
    "\n",
    "from sklearn.metrics import confusion_matrix\n",
    "from sklearn.model_selection import train_test_split\n",
    "\n",
    "\n",
    "import PIL.Image\n",
    "from IPython.display import display\n",
    "\n",
    "# zipfile opening\n",
    "from zipfile import ZipFile\n",
    "from io import BytesIO"
   ]
  },
  {
   "cell_type": "code",
   "execution_count": 11,
   "metadata": {},
   "outputs": [
    {
     "data": {
      "text/plain": [
       "['train/',\n",
       " 'train/000bec180eb18c7604dcecc8fe0dba07.jpg',\n",
       " 'train/001513dfcb2ffafc82cccf4d8bbaba97.jpg',\n",
       " 'train/001cdf01b096e06d78e9e5112d419397.jpg',\n",
       " 'train/00214f311d5d2247d5dfe4fe24b2303d.jpg']"
      ]
     },
     "execution_count": 11,
     "metadata": {},
     "output_type": "execute_result"
    }
   ],
   "source": [
    "# unzip files\n",
    "archive_train = ZipFile(\"Data/train.zip\", 'r')\n",
    "archive_test = ZipFile(\"Data/test.zip\", 'r')\n",
    "# First 5 train image names\n",
    "archive_train.namelist()[0:5]\n"
   ]
  },
  {
   "cell_type": "code",
   "execution_count": 12,
   "metadata": {},
   "outputs": [
    {
     "data": {
      "text/plain": [
       "10222"
      ]
     },
     "execution_count": 12,
     "metadata": {},
     "output_type": "execute_result"
    }
   ],
   "source": [
    "# This line shows the number of images in the train database, \n",
    "# noted that we must remove the 1st value (column header)\n",
    "len(archive_train.namelist()[:]) - 1"
   ]
  },
  {
   "cell_type": "code",
   "execution_count": 13,
   "metadata": {},
   "outputs": [],
   "source": [
    "# Function for pickling and writing the images for training/testing, and to resize to a normalized\n",
    "# state.\n",
    "def DataBase_creator(archivezip, nwidth, nheight, save_name):\n",
    "    # Grabbing archive zip and new sizes for normalizing shape\n",
    "    \n",
    "    # time start for easier program tracking\n",
    "    start_time = time.time()\n",
    "    \n",
    "    # nwidth x nheight = features/pixels\n",
    "    s = (len(archivezip.namelist()[:])-1, nwidth, nheight,3)\n",
    "    allImage = np.zeros(s)\n",
    "    for i in range(1,len(archivezip.namelist()[:])):\n",
    "        filename = BytesIO(archivezip.read(archivezip.namelist()[i]))\n",
    "        image = PIL.Image.open(filename) # open colour image\n",
    "        image = image.resize((nwidth, nheight))\n",
    "        image = np.array(image)\n",
    "        image = np.clip(image/255.0, 0.0, 1.0) # 255 = max of the value of a pixel\n",
    "        allImage[i-1]=image\n",
    "    \n",
    "    # Save new database in writable binary\n",
    "    pickle.dump(allImage, open( save_name + '.p', \"wb\" ) )\n",
    "    \n",
    "    # Ending time.\n",
    "    end_time = time.time()\n",
    "    # Difference between start and end-times.\n",
    "    time_dif = end_time - start_time\n",
    "    # Print the time-usage.\n",
    "    print(\"Time usage: \" + str(timedelta(seconds=int(round(time_dif)))))"
   ]
  },
  {
   "cell_type": "code",
   "execution_count": 14,
   "metadata": {},
   "outputs": [
    {
     "name": "stdout",
     "output_type": "stream",
     "text": [
      "Time usage: 0:00:34\n",
      "Time usage: 0:00:33\n"
     ]
    }
   ],
   "source": [
    "image_resize = 60\n",
    "DataBase_creator(archivezip = archive_train, nwidth = image_resize, \n",
    "                 nheight = image_resize , save_name = \"train\")\n",
    "DataBase_creator(archivezip = archive_test, nwidth = image_resize, nheight = image_resize,\n",
    "                 save_name = \"test\")"
   ]
  },
  {
   "cell_type": "code",
   "execution_count": 15,
   "metadata": {},
   "outputs": [
    {
     "data": {
      "text/plain": [
       "(10222, 60, 60, 3)"
      ]
     },
     "execution_count": 15,
     "metadata": {},
     "output_type": "execute_result"
    }
   ],
   "source": [
    "# load TRAIN\n",
    "df_train = pickle.load( open( \"train.p\", \"rb\" ) )\n",
    "\n",
    "df_train.shape"
   ]
  },
  {
   "cell_type": "code",
   "execution_count": 16,
   "metadata": {},
   "outputs": [
    {
     "data": {
      "text/plain": [
       "(10357, 60, 60, 3)"
      ]
     },
     "execution_count": 16,
     "metadata": {},
     "output_type": "execute_result"
    }
   ],
   "source": [
    "# load TEST\n",
    "df_test = pickle.load( open( \"test.p\", \"rb\" ) )\n",
    "df_test.shape"
   ]
  },
  {
   "cell_type": "code",
   "execution_count": null,
   "metadata": {},
   "outputs": [],
   "source": []
  }
 ],
 "metadata": {
  "kernelspec": {
   "display_name": "Python 3",
   "language": "python",
   "name": "python3"
  },
  "language_info": {
   "codemirror_mode": {
    "name": "ipython",
    "version": 3
   },
   "file_extension": ".py",
   "mimetype": "text/x-python",
   "name": "python",
   "nbconvert_exporter": "python",
   "pygments_lexer": "ipython3",
   "version": "3.6.0"
  }
 },
 "nbformat": 4,
 "nbformat_minor": 2
}
