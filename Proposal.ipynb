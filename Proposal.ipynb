{
 "cells": [
  {
   "cell_type": "markdown",
   "metadata": {},
   "source": [
    "# \"Who's a Good Boy?!\" - Final Project - UCB Bootcamp \n",
    "Project Group: Sean Lane, Grace Hsu, Casey Hill"
   ]
  },
  {
   "cell_type": "markdown",
   "metadata": {},
   "source": [
    "Problem Statement: \n",
    "Determine the breed of dog in a photo.\n",
    "\n",
    "Congratulations! You are now a proud parent of your newly adopted dog. However, you don’t know what type of breed your dog is. Although you could find out using an expensive DNA test, there’s a more cost effective method to do so. Simply, upload a photo and find out for free!\n",
    "\n",
    "We intend to deploy a model that will be able to determine the breed of your dog with an efficacy rate above 80%. This model will use over 10,000 training images as well as 10,000 test images. After our training and testing we will use Nanonets to strengthen our model with a deeper learning library for increased accuracy.\n",
    "\n",
    "Machine Learning: Learning dog image features using Deep Learning.\n",
    "Data Cleansing: Pandas and Numpy Libraries to clean and arrange our data for Machine Learning\n",
    "Languages: Convolution Neural Network (CNN), Sci-Kit Learn, NanoNet\n",
    "\n",
    "Other Programming Languages/Libraries:\n",
    "TABLEAU\n",
    "MATPLOTLIB\n",
    "HTML/CSS/BOOTSTRAP\n",
    "PYTHON FLASK APP\n",
    "\n",
    "Dataset:\n",
    "https://www.kaggle.com/c/dog-breed-identification/data?\n",
    "    Over 20,000 images of dog breeds and identifiers to split between test and training data.\n",
    "\n",
    "Other Resources: \n",
    "https://nanonets.com/\n",
    "    Python Library Used to stengthen our program efficacy"
   ]
  },
  {
   "cell_type": "code",
   "execution_count": null,
   "metadata": {},
   "outputs": [],
   "source": []
  }
 ],
 "metadata": {
  "kernelspec": {
   "display_name": "Python 3",
   "language": "python",
   "name": "python3"
  },
  "language_info": {
   "codemirror_mode": {
    "name": "ipython",
    "version": 3
   },
   "file_extension": ".py",
   "mimetype": "text/x-python",
   "name": "python",
   "nbconvert_exporter": "python",
   "pygments_lexer": "ipython3",
   "version": "3.6.0"
  }
 },
 "nbformat": 4,
 "nbformat_minor": 2
}
